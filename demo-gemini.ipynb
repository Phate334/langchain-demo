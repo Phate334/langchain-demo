{
 "cells": [
  {
   "cell_type": "code",
   "execution_count": 2,
   "metadata": {},
   "outputs": [
    {
     "name": "stderr",
     "output_type": "stream",
     "text": [
      "/home/ubuntu/.cache/pypoetry/virtualenvs/langchain-demo-wAV8wxVh-py3.10/lib/python3.10/site-packages/tqdm/auto.py:21: TqdmWarning: IProgress not found. Please update jupyter and ipywidgets. See https://ipywidgets.readthedocs.io/en/stable/user_install.html\n",
      "  from .autonotebook import tqdm as notebook_tqdm\n"
     ]
    }
   ],
   "source": [
    "import random\n",
    "\n",
    "from dotenv import load_dotenv\n",
    "load_dotenv('.env')\n",
    "\n",
    "from langchain_google_genai import ChatGoogleGenerativeAI\n",
    "from langchain.agents import AgentType, initialize_agent\n",
    "from langchain_core.tools import tool\n",
    "from pydantic.v1 import BaseModel, Field\n",
    "\n",
    "gemini_llm = ChatGoogleGenerativeAI(model=\"gemini-pro\", convert_system_message_to_human=True)"
   ]
  },
  {
   "cell_type": "code",
   "execution_count": 3,
   "metadata": {},
   "outputs": [],
   "source": [
    "class UserInput(BaseModel):\n",
    "    location: str = Field(..., title=\"Location\", description=\"The location to fetch data.\")\n",
    "\n",
    "@tool(\"fetch_temperature\", args_schema=UserInput)\n",
    "def fetch_temperature(user_input: UserInput) -> int:\n",
    "    \"\"\"Fetches the temperature for a given location.\"\"\"\n",
    "    # return {'temperature': random.randint(15, 35), 'unit': 'celsius', 'location': location}\n",
    "    return random.randint(15, 35)\n",
    "\n",
    "@tool(\"fetch_weather\", args_schema=UserInput)\n",
    "def fetch_weather(user_input: UserInput) -> str:\n",
    "    \"\"\"Fetches the weather for a given location.\"\"\"\n",
    "    # return {'weather': random.choice(['sunny', 'cloudy', 'rainy']), 'location': location}\n",
    "    return random.choice(['sunny', 'cloudy', 'rainy'])\n",
    "\n",
    "custom_tools = [fetch_temperature, fetch_weather]"
   ]
  },
  {
   "cell_type": "code",
   "execution_count": 6,
   "metadata": {},
   "outputs": [
    {
     "name": "stdout",
     "output_type": "stream",
     "text": [
      "\n",
      "\n",
      "\u001b[1m> Entering new AgentExecutor chain...\u001b[0m\n",
      "\u001b[32;1m\u001b[1;3m我必須先取得屏東的天氣和溫度\n",
      "Action: fetch_weather\n",
      "Action Input: UserInput(location=\"屏東\")\u001b[0m\n",
      "Observation: \u001b[33;1m\u001b[1;3mcloudy\u001b[0m\n",
      "Thought:\u001b[32;1m\u001b[1;3m我現在知道屏東的天氣是多雲\n",
      "Action: fetch_temperature\n",
      "Action Input: UserInput(location=\"屏東\")\u001b[0m\n",
      "Observation: \u001b[36;1m\u001b[1;3m22\u001b[0m\n",
      "Thought:\u001b[32;1m\u001b[1;3m我現在知道屏東的溫度是22度\n",
      "Final Answer: 屏東的天氣多雲，溫度22度，穿著上建議洋裝或短袖襯衫，防曬用品別忘記。\u001b[0m\n",
      "\n",
      "\u001b[1m> Finished chain.\u001b[0m\n"
     ]
    },
    {
     "data": {
      "text/plain": [
       "'屏東的天氣多雲，溫度22度，穿著上建議洋裝或短袖襯衫，防曬用品別忘記。'"
      ]
     },
     "execution_count": 6,
     "metadata": {},
     "output_type": "execute_result"
    }
   ],
   "source": [
    "agent = initialize_agent(\n",
    "    custom_tools, gemini_llm, agent=AgentType.ZERO_SHOT_REACT_DESCRIPTION, verbose=True, handle_parsing_errors=True\n",
    ")\n",
    "agent.run(\"屏東的天氣跟溫度，給我穿著建議。\")"
   ]
  }
 ],
 "metadata": {
  "kernelspec": {
   "display_name": "langchain-demo-wAV8wxVh-py3.10",
   "language": "python",
   "name": "python3"
  },
  "language_info": {
   "codemirror_mode": {
    "name": "ipython",
    "version": 3
   },
   "file_extension": ".py",
   "mimetype": "text/x-python",
   "name": "python",
   "nbconvert_exporter": "python",
   "pygments_lexer": "ipython3",
   "version": "3.10.12"
  }
 },
 "nbformat": 4,
 "nbformat_minor": 2
}
