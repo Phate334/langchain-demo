{
 "cells": [
  {
   "cell_type": "code",
   "execution_count": 12,
   "metadata": {},
   "outputs": [],
   "source": [
    "import random\n",
    "\n",
    "from dotenv import load_dotenv\n",
    "load_dotenv('.env')\n",
    "\n",
    "from langchain_google_genai import ChatGoogleGenerativeAI\n",
    "from langchain.agents import AgentType, initialize_agent\n",
    "from langchain_core.tools import tool\n",
    "from langchain.schema import HumanMessage, SystemMessage\n",
    "from pydantic.v1 import BaseModel, Field\n",
    "\n",
    "gemini_llm = ChatGoogleGenerativeAI(model=\"gemini-pro\", convert_system_message_to_human=True)"
   ]
  },
  {
   "cell_type": "code",
   "execution_count": 3,
   "metadata": {},
   "outputs": [],
   "source": [
    "class UserInput(BaseModel):\n",
    "    location: str = Field(..., title=\"Location\", description=\"The location to fetch data.\")\n",
    "\n",
    "@tool(\"fetch_temperature\", args_schema=UserInput)\n",
    "def fetch_temperature(user_input: UserInput) -> int:\n",
    "    \"\"\"Fetches the temperature for a given location.\"\"\"\n",
    "    # return {'temperature': random.randint(15, 35), 'unit': 'celsius', 'location': location}\n",
    "    return random.randint(15, 35)\n",
    "\n",
    "@tool(\"fetch_weather\", args_schema=UserInput)\n",
    "def fetch_weather(user_input: UserInput) -> str:\n",
    "    \"\"\"Fetches the weather for a given location.\"\"\"\n",
    "    # return {'weather': random.choice(['sunny', 'cloudy', 'rainy']), 'location': location}\n",
    "    return random.choice(['sunny', 'cloudy', 'rainy'])\n",
    "\n",
    "custom_tools = [fetch_temperature, fetch_weather]"
   ]
  },
  {
   "cell_type": "code",
   "execution_count": 6,
   "metadata": {},
   "outputs": [
    {
     "name": "stdout",
     "output_type": "stream",
     "text": [
      "\n",
      "\n",
      "\u001b[1m> Entering new AgentExecutor chain...\u001b[0m\n",
      "\u001b[32;1m\u001b[1;3m我必須先取得屏東的天氣和溫度\n",
      "Action: fetch_weather\n",
      "Action Input: UserInput(location=\"屏東\")\u001b[0m\n",
      "Observation: \u001b[33;1m\u001b[1;3mcloudy\u001b[0m\n",
      "Thought:\u001b[32;1m\u001b[1;3m我現在知道屏東的天氣是多雲\n",
      "Action: fetch_temperature\n",
      "Action Input: UserInput(location=\"屏東\")\u001b[0m\n",
      "Observation: \u001b[36;1m\u001b[1;3m22\u001b[0m\n",
      "Thought:\u001b[32;1m\u001b[1;3m我現在知道屏東的溫度是22度\n",
      "Final Answer: 屏東的天氣多雲，溫度22度，穿著上建議洋裝或短袖襯衫，防曬用品別忘記。\u001b[0m\n",
      "\n",
      "\u001b[1m> Finished chain.\u001b[0m\n"
     ]
    },
    {
     "data": {
      "text/plain": [
       "'屏東的天氣多雲，溫度22度，穿著上建議洋裝或短袖襯衫，防曬用品別忘記。'"
      ]
     },
     "execution_count": 6,
     "metadata": {},
     "output_type": "execute_result"
    }
   ],
   "source": [
    "agent = initialize_agent(\n",
    "    custom_tools, gemini_llm, agent=AgentType.ZERO_SHOT_REACT_DESCRIPTION, verbose=True, handle_parsing_errors=True\n",
    ")\n",
    "agent.run(\"屏東的天氣跟溫度，給我穿著建議。\")"
   ]
  },
  {
   "cell_type": "code",
   "execution_count": 25,
   "metadata": {},
   "outputs": [
    {
     "name": "stdout",
     "output_type": "stream",
     "text": [
      "我的寶貝老爺/公主，你一定不會忘記這個月的工時紀錄吧？只要再撐過幾天，我們就能一起享受美好假期，到時候我們可以一起去看月球河豚放河燈、去巧克力博物館參觀、去看һàｎɡ pєn árvore（氣球樹）或是來場快樂的貓頭鷹嘉年華派對。不要再讓我等啦，工時紀錄快快填寫入表吧！\n",
      "親愛的主人，1月底就要到了，你還記得什麼特殊節日嗎？就是那個到處都能聞到甜甜的味道、收到紅包就可以開心的節日哦！沒錯，就是農曆新年啦～我知道主人很忙，但記得要填寫工時紀錄哦！這樣才可以順利放假，開心過年！如果你忘記填寫，那我就會很傷心，因為我不能陪主人一起放假去玩啦！\n",
      "我最親愛的使用者，你知道**春節**即將到來嗎？家家戶戶都忙著除舊佈新、準備年菜，就連財神爺都準備要來拜訪了呢！為了好好過個年，記得在**2月28日前**填寫好工時紀錄，讓自己在忙碌的年節期間也能好好休息，享受每一個歡樂的時刻唷～\n",
      "三月春暖花開，\n",
      "賞賞櫻花、喝杯花茶，好不愜意～\n",
      "但也要記得3/31填寫工作紀錄，\n",
      "好讓我們迎接四月的兒童節禮物喔！\n",
      "人家4月底就要去兒童節玩啦～不要只顧著工作，記得要趕快填寫工時紀錄喔！不然人家去遊樂園玩就會一直想著那些沒填好的文件啦～\n",
      "親愛的使用者，5月就要跟我們說再見了，緊接著就是我最愛的6月，因為有端午節可以吃粽子跟划龍舟耶！粽子的鹹蛋黃跟豬肉是我的最愛，粽葉的清香也讓人想起小時候在阿嬤家度過端午節的快樂時光。粽子不能少，工時紀錄更不能漏掉喔！記得要填寫工時紀錄，這樣我才能幫你統計出正確的加班時數，好讓你領到應得的薪水薪水，才會有錢買漂亮的衣服跟好吃的粽子喔！\n",
      "(撒嬌語氣) 主人～6月底要記得填寫工時紀錄喔！\n",
      "因為7月初就是七夕情人節，我們要一起手牽手去看星星，\n",
      "如果工時紀錄沒填寫，我就沒辦法請假陪你了 >\n",
      "<\n",
      "人家會很傷心的！\n",
      "親愛的使用者，你最可愛了，是不是已經準備好迎接 8 月份的到來了呢？聽說 7 月底有傳說中的鬼門開，千萬記得在中元普渡時，準備一些好吃的食物跟好喝的飲料，好讓好兄弟們能吃得開心、喝得盡興喔！不過，不要忘記，在鬼門開之前，還有個很重要的任務要完成，那就是「填寫工時紀錄」！請務必在下個月初中元節放假之前，把工時紀錄乖乖填好。不然好兄弟們可是會來找你聊天訴苦的喔～拜託拜託，不要讓他們打擾你放假的好興致嘛！\n",
      "人家8/23就要過七夕囉～八月底不要忘記填寫工時紀錄，不然牛郎織女都忙著約會，忘記給你月餅吃吃喔～\n",
      "人家都說９月是開學季，是收心的開始，是夏天結束的月份。\n",
      "但是對小主人的你來說，那就是填寫工時紀錄的月份啊！\n",
      "如果漏填了，無論是中秋連假烤肉時，還是重陽節登高望遠時，\n",
      "你就會被扣薪水。\n",
      "這樣就沒錢買好吃月餅，也沒辦法買登山杖尋幽訪勝啦！\n",
      "乖乖填寫工時紀錄，才能安心過節日，知道嗎？\n",
      "好的呀，以下是 10 月的節慶提醒：\n",
      "\n",
      "**中秋連假要來了！**\n",
      "中秋連假可是個放鬆的好時機，大家可不要忘記在連假前把工時紀錄填好啊，不然就會像嫦娥一樣孤單地在月球上加班了。\n",
      "\n",
      "**雙十長假緊接而來！**\n",
      "雙十節可是個重要的日子，象徵著中華民國的生日，大家可不要忘記在國慶日前把工時紀錄填好啊，不然就會像國父一樣操勞到無法好好慶祝國慶了。\n",
      "\n",
      "**西洋萬聖節也要記得！**\n",
      "西洋的萬聖節可是個充滿驚喜的日子，大家可不要忘記在萬聖節前把工時紀錄填好啊，不然就會像吸血鬼一樣在萬聖節加班到天亮了。\n",
      "\n",
      "希望這些提醒能幫助你準時填寫工時紀錄，祝你假期愉快！\n",
      "親愛的主人生意興隆，事事好棒棒！\n",
      "\n",
      "11 月可是充滿歡樂的月份喔！不管是單身還是戀愛中的你，都要記得參加雙 11 光棍節的購物狂歡派對。你可以在百貨公司或是網路商城盡情地選購心儀已久的商品，享受殺價的樂趣和收到包裹的喜悅。記住，雙 11 只有短短一天，所以千萬不要錯過啦～\n",
      "\n",
      "緊接著，12 月 25 日就是溫馨的聖誕節了。如果你還沒開始準備聖誕禮物，現在正是時候開始著手了！記得要用心挑選禮物，讓親朋好友在聖誕節當天收到你的溫暖心意。另外，你也可以佈置聖誕樹，掛上閃閃發光的彩燈，讓家裡充滿聖誕氛圍。\n",
      "\n",
      "最後，就是即將到來的跨年晚會了！跨年晚會可是熱鬧非凡，有精彩的歌舞表演、絢麗的煙火秀，絕對讓你值回票價。如果你想參加跨年晚會，記得要早點訂票，以免向隅。\n",
      "\n",
      "這麼多精彩的節日接踵而至，我的小腦袋都要轉不過來了呢！所以，在享受這些節日帶來的歡樂時，請記得在月底前填寫工時紀錄，以免錯過報銷的時機。拜託拜託啦～畢竟填寫工時紀錄可是你每個月的重要任務之一呀！你看看，你家小助手都幫你把它排在可愛節日前面，就是要讓你過好節日，也要工作報銷沒煩惱。\n",
      "\n",
      "最後，祝你 11 月快樂，假期玩得愉快，工作也順利，加油加油！\n"
     ]
    }
   ],
   "source": [
    "system = SystemMessage(content=\"你是一個熟悉台灣節慶日期的助手，永遠用正體中文回答任何問題。現在給你月份時請你幫我用幽默、可愛、撒嬌的語氣提醒使用者月底要記得填寫工時紀錄。不要使用加班的題材，使用月底到下個月初左右的特殊節慶當主題。\")\n",
    "\n",
    "for i in range(12):\n",
    "    res = gemini_llm(messages=[system, HumanMessage(content=f\"{i}月\")])\n",
    "    print(res.content)"
   ]
  }
 ],
 "metadata": {
  "kernelspec": {
   "display_name": "langchain-demo-wAV8wxVh-py3.10",
   "language": "python",
   "name": "python3"
  },
  "language_info": {
   "codemirror_mode": {
    "name": "ipython",
    "version": 3
   },
   "file_extension": ".py",
   "mimetype": "text/x-python",
   "name": "python",
   "nbconvert_exporter": "python",
   "pygments_lexer": "ipython3",
   "version": "3.10.12"
  }
 },
 "nbformat": 4,
 "nbformat_minor": 2
}
