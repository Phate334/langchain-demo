{
 "cells": [
  {
   "cell_type": "code",
   "execution_count": null,
   "metadata": {},
   "outputs": [],
   "source": [
    "from llama_index.embeddings import HuggingFaceEmbedding\n",
    "from llama_index.llms import AzureOpenAI\n",
    "from llama_index.vector_stores import (\n",
    "    OpensearchVectorStore,\n",
    "    OpensearchVectorClient,\n",
    ")\n",
    "from llama_index import (\n",
    "    ServiceContext,\n",
    "    SimpleDirectoryReader,\n",
    "    StorageContext,\n",
    "    VectorStoreIndex\n",
    ")\n",
    "import nltk\n",
    "from llama_index.node_parser import SentenceWindowNodeParser\n",
    "from llama_index.text_splitter import SentenceSplitter\n",
    "from llama_index.postprocessor import MetadataReplacementPostProcessor, SentenceTransformerRerank"
   ]
  },
  {
   "cell_type": "code",
   "execution_count": null,
   "metadata": {},
   "outputs": [],
   "source": [
    "# 讀取資料\n",
    "documents = SimpleDirectoryReader(\"./data/\").load_data()\n",
    "print(len(documents))\n",
    "print(\"-\"*50)\n",
    "print(documents[0].text)\n",
    "print(\"-\"*50)\n",
    "print(documents[0].metadata)"
   ]
  },
  {
   "cell_type": "code",
   "execution_count": null,
   "metadata": {},
   "outputs": [],
   "source": [
    "# parsers\n",
    "node_parser = SentenceWindowNodeParser.from_defaults(\n",
    "    window_size=3,\n",
    "    window_metadata_key=\"window\",\n",
    "    original_text_metadata_key=\"original_text\",\n",
    ")\n",
    "\n",
    "# parse nodes from documents\n",
    "nodes = node_parser.get_nodes_from_documents(documents)"
   ]
  },
  {
   "cell_type": "code",
   "execution_count": null,
   "metadata": {},
   "outputs": [],
   "source": [
    "print(len(nodes))\n",
    "print(nodes[0].text)"
   ]
  },
  {
   "cell_type": "code",
   "execution_count": null,
   "metadata": {},
   "outputs": [],
   "source": [
    "print(nodes[0].metadata['window'])"
   ]
  },
  {
   "cell_type": "code",
   "execution_count": null,
   "metadata": {},
   "outputs": [],
   "source": [
    "# prepare embedding model\n",
    "embed_model = HuggingFaceEmbedding(model_name=\"intfloat/multilingual-e5-small\")\n",
    "embeddings = embed_model.get_text_embedding(nodes[0].text)\n",
    "print(len(embeddings))\n",
    "print(embeddings[:5])\n",
    "\n",
    "# prepare llm\n",
    "api_key = \"YOUR_AZURE_API_KEY\"\n",
    "azure_endpoint = \"YOUR_AZURE_ENDPOINT\"\n",
    "api_version = \"2023-09-15-preview\"\n",
    "model = \"YOUR_MODEL\"\n",
    "deploy_name = \"YOUR_DEPLOY_NAME\"\n",
    "\n",
    "llm = AzureOpenAI(\n",
    "    model=model,\n",
    "    deployment_name=deploy_name,\n",
    "    api_key=api_key,\n",
    "    azure_endpoint=azure_endpoint,\n",
    "    api_version=api_version,\n",
    ")"
   ]
  },
  {
   "cell_type": "code",
   "execution_count": null,
   "metadata": {},
   "outputs": [],
   "source": [
    "# prepare vector store (Opensearch)\n",
    "host = \"https://localhost:9200\"\n",
    "index_name = \"demo_test\" # custom index name\n",
    "# OpensearchVectorClient stores text in this field by default\n",
    "text_field = \"content\"\n",
    "# OpensearchVectorClient stores embeddings in this field by default\n",
    "embedding_field = \"embedding\"\n",
    "client = OpensearchVectorClient(\n",
    "    host, index_name,384,embedding_field=embedding_field, text_field=text_field, \n",
    "    http_auth=(\"admin\", \"admin\"), use_ssl=False, verify_certs=False,  ssl_assert_hostname=False, ssl_show_warn=False,\n",
    "\n",
    ")\n",
    "\n",
    "# initialize vector store\n",
    "vector_store = OpensearchVectorStore(client)\n",
    "service_context = ServiceContext.from_defaults(llm=llm, embed_model=embed_model)\n",
    "storage_context = StorageContext.from_defaults(vector_store=vector_store)\n",
    "index = VectorStoreIndex.from_documents(\n",
    "    documents=documents, storage_context=storage_context, service_context=service_context\n",
    ")"
   ]
  },
  {
   "cell_type": "code",
   "execution_count": null,
   "metadata": {},
   "outputs": [],
   "source": [
    "postprocessors_matadata = MetadataReplacementPostProcessor(target_metadata_key=\"window\")\n",
    "postprocessors_rerank = SentenceTransformerRerank(model=\"cross-encoder/ms-marco-MiniLM-L-2-v2\", top_n=3)\n",
    "query_engine = index.as_query_engine(similarity_top_k=5,node_postprocessors=[postprocessors_rerank,postprocessors_matadata],)\n",
    "\n",
    "response = query_engine.query(\"請問企業導入AI案例與建議有什麼\")"
   ]
  },
  {
   "cell_type": "code",
   "execution_count": null,
   "metadata": {},
   "outputs": [],
   "source": [
    "print(response.response)"
   ]
  },
  {
   "cell_type": "code",
   "execution_count": null,
   "metadata": {},
   "outputs": [],
   "source": [
    "retrieve_engine = index.as_retriever(similarity_top_k=3)\n",
    "node_retrieve = retrieve_engine.retrieve(\"請問企業導入AI案例與建議有什麼\")\n",
    "print(node_retrieve[1])"
   ]
  },
  {
   "cell_type": "code",
   "execution_count": null,
   "metadata": {},
   "outputs": [],
   "source": [
    "# store the index data\n",
    "index.storage_context.persist(\"./storage/\")"
   ]
  }
 ],
 "metadata": {
  "language_info": {
   "name": "python"
  }
 },
 "nbformat": 4,
 "nbformat_minor": 2
}
