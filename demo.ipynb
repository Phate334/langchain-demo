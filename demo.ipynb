{
 "cells": [
  {
   "cell_type": "code",
   "execution_count": 11,
   "metadata": {},
   "outputs": [],
   "source": [
    "from pprint import pprint\n",
    "from langchain.llms import Ollama, OpenAI\n",
    "from langchain.prompts import PromptTemplate\n",
    "from langchain.schema import StrOutputParser\n",
    "from langchain.output_parsers import PydanticOutputParser\n",
    "from pydantic import BaseModel, field_validator\n",
    "\n",
    "ollama_api = \"https://ollama.phate.dev\"\n",
    "starling_llm = Ollama(base_url=ollama_api, model=\"starling\")\n",
    "taide_llm = Ollama(base_url=ollama_api, model=\"taide-b11\")\n",
    "\n",
    "openai_api = \"https://openai.phate.dev/v1\"\n",
    "openai_llm = OpenAI(openai_api_key=\"sk-template\", openai_api_base=openai_api, model=\"starling\")\n",
    "\n",
    "str_output_parser = StrOutputParser()\n",
    "\n",
    "cpus = []\n",
    "with open('cpu.txt', encoding='utf-8') as f:\n",
    "    cpus = f.read().splitlines()"
   ]
  },
  {
   "cell_type": "code",
   "execution_count": 37,
   "metadata": {},
   "outputs": [
    {
     "name": "stdout",
     "output_type": "stream",
     "text": [
      "謝謝您的讚賞！作為一名人工智慧語言模型，我的目的就是成為用戶的有用助手，協助他們完成各種任務。我很高興聽到您認為我正在達成這項目標，請繼續對我提出要求和任務，我會全力以赴幫助您完成它們！\n"
     ]
    }
   ],
   "source": [
    "taide_llm(\"你好\")"
   ]
  },
  {
   "cell_type": "markdown",
   "metadata": {},
   "source": [
    "![cpu](cpu.PNG)"
   ]
  },
  {
   "cell_type": "code",
   "execution_count": 3,
   "metadata": {},
   "outputs": [
    {
     "name": "stdout",
     "output_type": "stream",
     "text": [
      "幫我把以下的資料結構化輸出成 JSON 格式：\n",
      "Intel i9-14900K【8+16核/32緒】4.4G(↑6.0G)/36M/UHD770/無風扇【代理盒裝】, $20700 ◆ ★ 熱賣\n",
      "\n"
     ]
    }
   ],
   "source": [
    "prompt = PromptTemplate.from_template(\n",
    "    \"\"\"幫我把以下的資料結構化輸出成 JSON 格式：\n",
    "{content}\n",
    "\"\"\")\n",
    "print(prompt.format(content=cpus[-1]))"
   ]
  },
  {
   "cell_type": "code",
   "execution_count": 35,
   "metadata": {},
   "outputs": [
    {
     "name": "stdout",
     "output_type": "stream",
     "text": [
      "(' {\\n'\n",
      " '  \"cpu\": {\\n'\n",
      " '    \"brand\": \"Intel\",\\n'\n",
      " '    \"model\": \"i9-14900K\",\\n'\n",
      " '    \"cores\": [8, 16],\\n'\n",
      " '    \"threads\": 32,\\n'\n",
      " '    \"base_frequency\": \"4.4GHz\",\\n'\n",
      " '    \"max_turbo_frequency\": \"6.0GHz\",\\n'\n",
      " '    \"cache\": \"36M\",\\n'\n",
      " '    \"integrated_graphics\": \"UHD 770\",\\n'\n",
      " '    \"cooling\": \"無風扇\",\\n'\n",
      " '    \"availability\": \"代理盒裝\"\\n'\n",
      " '  },\\n'\n",
      " '  \"price\": {\\n'\n",
      " '    \"usd\": \"$20700\"\\n'\n",
      " '  },\\n'\n",
      " '  \"popularity\": \"★ 熱賣\"\\n'\n",
      " '}')\n"
     ]
    }
   ],
   "source": [
    "result = starling_llm(prompt.format(content=cpus[-1]))\n",
    "pprint(result)"
   ]
  },
  {
   "cell_type": "code",
   "execution_count": 9,
   "metadata": {},
   "outputs": [
    {
     "name": "stdout",
     "output_type": "stream",
     "text": [
      "(' {\\n'\n",
      " '  \"processor\": {\\n'\n",
      " '    \"brand\": \"Intel\",\\n'\n",
      " '    \"model\": \"i9-14900K\",\\n'\n",
      " '    \"core_count\": 8,\\n'\n",
      " '    \"thread_count\": 16,\\n'\n",
      " '    \"base_frequency\": 4.4,\\n'\n",
      " '    \"boost_frequency\": 6.0,\\n'\n",
      " '    \"cache_size\": 36,\\n'\n",
      " '    \"integrated_graphics\": \"UHD770\",\\n'\n",
      " '    \"cooling\": \"無風扇\",\\n'\n",
      " '    \"packaging\": \"代理盒裝\"\\n'\n",
      " '  },\\n'\n",
      " '  \"price\": {\\n'\n",
      " '    \"USD\": 20700,\\n'\n",
      " '    \"stars\": 5\\n'\n",
      " '  }\\n'\n",
      " '}')\n"
     ]
    }
   ],
   "source": [
    "prompt_chain = prompt|starling_llm|str_output_parser\n",
    "pprint(prompt_chain.invoke({\"content\":cpus[-1]}))"
   ]
  },
  {
   "cell_type": "code",
   "execution_count": 23,
   "metadata": {},
   "outputs": [],
   "source": [
    "class Cpu(BaseModel):\n",
    "    full_title: str\n",
    "    brand: str\n",
    "    model: str\n",
    "    core: int\n",
    "    thread: int\n",
    "    base_frequency: float\n",
    "    boost_frequency: float\n",
    "    price: int\n",
    "\n",
    "    @field_validator(\"price\")\n",
    "    def price_int(cls, v) -> int:\n",
    "        try:\n",
    "            return int(v)\n",
    "        except:\n",
    "            return -1\n",
    "\n",
    "cpu_parser = PydanticOutputParser(pydantic_object=Cpu)\n",
    "\n",
    "cpu_prompt = PromptTemplate.from_template(\n",
    "    template=\"幫我把以下的資料結構化輸出成 JSON 格式：\\n{format_instructions}\\n{content}\\n\",\n",
    "    partial_variables={\"format_instructions\": cpu_parser.get_format_instructions()})\n"
   ]
  },
  {
   "cell_type": "code",
   "execution_count": 34,
   "metadata": {},
   "outputs": [
    {
     "name": "stdout",
     "output_type": "stream",
     "text": [
      "('{\\n'\n",
      " '  \"full_title\": \"Intel '\n",
      " 'i9-14900K【8+16核/32緒】4.4G(↑6.0G)/36M/UHD770/無風扇【代理盒裝】\",\\n'\n",
      " '  \"brand\": \"Intel\",\\n'\n",
      " '  \"model\": \"i9-14900K\",\\n'\n",
      " '  \"core\": 8,\\n'\n",
      " '  \"thread\": 32,\\n'\n",
      " '  \"base_frequency\": 4.4,\\n'\n",
      " '  \"boost_frequency\": 6.0,\\n'\n",
      " '  \"price\": 20700\\n'\n",
      " '}')\n"
     ]
    }
   ],
   "source": [
    "cpu_json_chain = cpu_prompt|starling_llm|cpu_parser\n",
    "res = cpu_json_chain.invoke({\"content\":cpus[-1]})\n",
    "pprint(str(res.model_dump_json(indent=2)))"
   ]
  },
  {
   "cell_type": "code",
   "execution_count": 39,
   "metadata": {},
   "outputs": [
    {
     "name": "stdout",
     "output_type": "stream",
     "text": [
      "The output should be formatted as a JSON instance that conforms to the JSON schema below.\n",
      "\n",
      "As an example, for the schema {\"properties\": {\"foo\": {\"title\": \"Foo\", \"description\": \"a list of strings\", \"type\": \"array\", \"items\": {\"type\": \"string\"}}}, \"required\": [\"foo\"]}\n",
      "the object {\"foo\": [\"bar\", \"baz\"]} is a well-formatted instance of the schema. The object {\"properties\": {\"foo\": [\"bar\", \"baz\"]}} is not well-formatted.\n",
      "\n",
      "Here is the output schema:\n",
      "```\n",
      "{\"properties\": {\"full_title\": {\"title\": \"Full Title\", \"type\": \"string\"}, \"brand\": {\"title\": \"Brand\", \"type\": \"string\"}, \"model\": {\"title\": \"Model\", \"type\": \"string\"}, \"core\": {\"title\": \"Core\", \"type\": \"integer\"}, \"thread\": {\"title\": \"Thread\", \"type\": \"integer\"}, \"base_frequency\": {\"title\": \"Base Frequency\", \"type\": \"number\"}, \"boost_frequency\": {\"title\": \"Boost Frequency\", \"type\": \"number\"}, \"price\": {\"title\": \"Price\", \"type\": \"integer\"}}, \"required\": [\"full_title\", \"brand\", \"model\", \"core\", \"thread\", \"base_frequency\", \"boost_frequency\", \"price\"]}\n",
      "```\n"
     ]
    }
   ],
   "source": [
    "print(cpu_parser.get_format_instructions())"
   ]
  }
 ],
 "metadata": {
  "kernelspec": {
   "display_name": "langchain-demo-wAV8wxVh-py3.10",
   "language": "python",
   "name": "python3"
  },
  "language_info": {
   "codemirror_mode": {
    "name": "ipython",
    "version": 3
   },
   "file_extension": ".py",
   "mimetype": "text/x-python",
   "name": "python",
   "nbconvert_exporter": "python",
   "pygments_lexer": "ipython3",
   "version": "3.10.12"
  }
 },
 "nbformat": 4,
 "nbformat_minor": 2
}
